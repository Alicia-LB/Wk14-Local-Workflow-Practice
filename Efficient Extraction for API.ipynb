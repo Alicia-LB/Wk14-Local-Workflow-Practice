{
 "cells": [
  {
   "cell_type": "code",
   "execution_count": 2,
   "id": "cec77839",
   "metadata": {},
   "outputs": [],
   "source": [
    "# Standard Imports\n",
    "import numpy as np\n",
    "import pandas as pd\n",
    "import matplotlib.pyplot as plt\n",
    "import seaborn as sns\n",
    "# Additional Imports\n",
    "import os, json, math, time\n",
    "from yelpapi import YelpAPI"
   ]
  },
  {
   "cell_type": "code",
   "execution_count": 3,
   "id": "d1cec07d",
   "metadata": {},
   "outputs": [],
   "source": [
    "# Load API Credentials\n",
    "with open('/Users/alicia/.secret/yelp_api.json') as f:   #use your path here!\n",
    "    login = json.load(f)\n",
    "# Instantiate YelpAPI Variable\n",
    "yelp_api = YelpAPI(login['api-key'], timeout_s=5.0)"
   ]
  },
  {
   "cell_type": "code",
   "execution_count": 4,
   "id": "ffe3dc69",
   "metadata": {},
   "outputs": [],
   "source": [
    "# set our API call parameters and filename before the first call\n",
    "LOCATION = 'Baltimore, MD,21202'\n",
    "TERM = 'Crab Cakes'"
   ]
  },
  {
   "cell_type": "code",
   "execution_count": 5,
   "id": "81b3d28d",
   "metadata": {},
   "outputs": [
    {
     "data": {
      "text/plain": [
       "'Data/results_in_progress_Crab_cakes.json'"
      ]
     },
     "execution_count": 5,
     "metadata": {},
     "output_type": "execute_result"
    }
   ],
   "source": [
    "# Specifying JSON_FILE filename (can include a folder)\n",
    "# include the search terms in the filename\n",
    "JSON_FILE = f\"Data/results_in_progress_Crab_cakes.json\"\n",
    "JSON_FILE"
   ]
  },
  {
   "cell_type": "code",
   "execution_count": 6,
   "id": "c0bf3490",
   "metadata": {},
   "outputs": [
    {
     "name": "stdout",
     "output_type": "stream",
     "text": [
      "[i] Data/results_in_progress_Crab_cakes.json not found. Saving empty list to file.\n"
     ]
    }
   ],
   "source": [
    "## Check if JSON_FILE exists\n",
    "file_exists = os.path.isfile(JSON_FILE)\n",
    "## If it does not exist: \n",
    "if file_exists == False:\n",
    "    \n",
    "    ## CREATE ANY NEEDED FOLDERS\n",
    "    # Get the Folder Name only\n",
    "    folder = os.path.dirname(JSON_FILE)\n",
    "    ## If JSON_FILE included a folder:\n",
    "    if len(folder)>0:\n",
    "        # create the folder\n",
    "        os.makedirs(folder,exist_ok=True)\n",
    "        \n",
    "        \n",
    "    ## INFORM USER AND SAVE EMPTY LIST\n",
    "    print(f\"[i] {JSON_FILE} not found. Saving empty list to file.\")\n",
    "    \n",
    "    \n",
    "    ## save the first page of results\n",
    "    with open(JSON_FILE,'w') as f:\n",
    "        json.dump([],f)  \n",
    "## If it exists, inform user\n",
    "else:\n",
    "    print(f\"[i] {JSON_FILE} already exists.\")"
   ]
  },
  {
   "cell_type": "code",
   "execution_count": 7,
   "id": "1c2e915a",
   "metadata": {},
   "outputs": [
    {
     "name": "stdout",
     "output_type": "stream",
     "text": [
      "- 0 previous results found.\n"
     ]
    }
   ],
   "source": [
    "## Load previous results and use len of results for offset\n",
    "with open(JSON_FILE,'r') as f:\n",
    "    previous_results = json.load(f)\n",
    "    \n",
    "## set offset based on previous results\n",
    "n_results = len(previous_results)\n",
    "print(f'- {n_results} previous results found.')"
   ]
  },
  {
   "cell_type": "code",
   "execution_count": 8,
   "id": "470e62bd",
   "metadata": {},
   "outputs": [
    {
     "data": {
      "text/plain": [
       "dict_keys(['businesses', 'total', 'region'])"
      ]
     },
     "execution_count": 8,
     "metadata": {},
     "output_type": "execute_result"
    }
   ],
   "source": [
    "# use our yelp_api variable's search_query method to perform our API call\n",
    "results = yelp_api.search_query(location=LOCATION,\n",
    "                                term=TERM,\n",
    "                               offset=n_results)\n",
    "results.keys()"
   ]
  },
  {
   "cell_type": "code",
   "execution_count": 9,
   "id": "83f8606b",
   "metadata": {},
   "outputs": [
    {
     "data": {
      "text/plain": [
       "436"
      ]
     },
     "execution_count": 9,
     "metadata": {},
     "output_type": "execute_result"
    }
   ],
   "source": [
    "## How many results total?\n",
    "total_results = results['total']\n",
    "total_results"
   ]
  },
  {
   "cell_type": "code",
   "execution_count": 10,
   "id": "1731ff01",
   "metadata": {},
   "outputs": [
    {
     "data": {
      "text/plain": [
       "20"
      ]
     },
     "execution_count": 10,
     "metadata": {},
     "output_type": "execute_result"
    }
   ],
   "source": [
    "## How many did we get the details for?\n",
    "results_per_page = len(results['businesses'])\n",
    "results_per_page"
   ]
  },
  {
   "cell_type": "code",
   "execution_count": 11,
   "id": "b1c1b629",
   "metadata": {},
   "outputs": [
    {
     "data": {
      "text/plain": [
       "22"
      ]
     },
     "execution_count": 11,
     "metadata": {},
     "output_type": "execute_result"
    }
   ],
   "source": [
    "# Import additional packages for controlling our loop\n",
    "import time, math\n",
    "# Use math.ceil to round up for the total number of pages of results.\n",
    "n_pages = math.ceil((results['total']-n_results)/ results_per_page)\n",
    "n_pages"
   ]
  },
  {
   "cell_type": "code",
   "execution_count": 12,
   "id": "0aa7c8ce",
   "metadata": {},
   "outputs": [],
   "source": [
    "# join new results with old list with extend and save to file\n",
    "previous_results.extend(results['businesses'])  \n",
    "with open(JSON_FILE,'w') as f:\n",
    "     json.dump(previous_results,f)"
   ]
  },
  {
   "cell_type": "code",
   "execution_count": 13,
   "id": "29976e91",
   "metadata": {},
   "outputs": [
    {
     "data": {
      "application/vnd.jupyter.widget-view+json": {
       "model_id": "573ea1c389894ca6958e64df2a583ecf",
       "version_major": 2,
       "version_minor": 0
      },
      "text/plain": [
       "  0%|          | 0/22 [00:00<?, ?it/s]"
      ]
     },
     "metadata": {},
     "output_type": "display_data"
    }
   ],
   "source": [
    "from tqdm.notebook import tqdm_notebook\n",
    "import time\n",
    "for i in tqdm_notebook(range(n_pages)):\n",
    "    # adds 200 ms pause\n",
    "    time.sleep(.2) "
   ]
  },
  {
   "cell_type": "code",
   "execution_count": 14,
   "id": "153fd33f",
   "metadata": {},
   "outputs": [
    {
     "data": {
      "application/vnd.jupyter.widget-view+json": {
       "model_id": "6d12b8c8bb8f4c24b5473ddc9b1fab0c",
       "version_major": 2,
       "version_minor": 0
      },
      "text/plain": [
       "  0%|          | 0/22 [00:00<?, ?it/s]"
      ]
     },
     "metadata": {},
     "output_type": "display_data"
    }
   ],
   "source": [
    "for i in tqdm_notebook( range(1,n_pages+1)):\n",
    "    time.sleep(.2)\n",
    "    ## Read in results in progress file and check the length\n",
    "    with open(JSON_FILE, 'r') as f:\n",
    "        previous_results = json.load(f)\n",
    "    ## save number of results for to use as offset\n",
    "    n_results = len(previous_results)\n",
    "    ## use n_results as the OFFSET \n",
    "    results = yelp_api.search_query(location=LOCATION,\n",
    "                                    term=TERM, \n",
    "                                    offset=n_results)\n",
    "    \n",
    "    ## append new results and save to file\n",
    "    previous_results.extend(results['businesses'])\n",
    "    \n",
    "#     display(previous_results)\n",
    "    with open(JSON_FILE,'w') as f:\n",
    "        json.dump(previous_results,f)"
   ]
  },
  {
   "cell_type": "code",
   "execution_count": 15,
   "id": "a41daeca",
   "metadata": {},
   "outputs": [
    {
     "data": {
      "text/html": [
       "<div>\n",
       "<style scoped>\n",
       "    .dataframe tbody tr th:only-of-type {\n",
       "        vertical-align: middle;\n",
       "    }\n",
       "\n",
       "    .dataframe tbody tr th {\n",
       "        vertical-align: top;\n",
       "    }\n",
       "\n",
       "    .dataframe thead th {\n",
       "        text-align: right;\n",
       "    }\n",
       "</style>\n",
       "<table border=\"1\" class=\"dataframe\">\n",
       "  <thead>\n",
       "    <tr style=\"text-align: right;\">\n",
       "      <th></th>\n",
       "      <th>id</th>\n",
       "      <th>alias</th>\n",
       "      <th>name</th>\n",
       "      <th>image_url</th>\n",
       "      <th>is_closed</th>\n",
       "      <th>url</th>\n",
       "      <th>review_count</th>\n",
       "      <th>categories</th>\n",
       "      <th>rating</th>\n",
       "      <th>coordinates</th>\n",
       "      <th>transactions</th>\n",
       "      <th>price</th>\n",
       "      <th>location</th>\n",
       "      <th>phone</th>\n",
       "      <th>display_phone</th>\n",
       "      <th>distance</th>\n",
       "    </tr>\n",
       "  </thead>\n",
       "  <tbody>\n",
       "    <tr>\n",
       "      <th>0</th>\n",
       "      <td>D9A33FM394q99o4QtK5YwA</td>\n",
       "      <td>faidleys-seafood-baltimore-3</td>\n",
       "      <td>Faidley's Seafood</td>\n",
       "      <td>https://s3-media3.fl.yelpcdn.com/bphoto/8j3ynZ...</td>\n",
       "      <td>False</td>\n",
       "      <td>https://www.yelp.com/biz/faidleys-seafood-balt...</td>\n",
       "      <td>1199</td>\n",
       "      <td>[{'alias': 'seafood', 'title': 'Seafood'}, {'a...</td>\n",
       "      <td>4.0</td>\n",
       "      <td>{'latitude': 39.291696, 'longitude': -76.62224}</td>\n",
       "      <td>[delivery]</td>\n",
       "      <td>$$</td>\n",
       "      <td>{'address1': '203 N Paca St', 'address2': '', ...</td>\n",
       "      <td>+14107274898</td>\n",
       "      <td>(410) 727-4898</td>\n",
       "      <td>1349.560720</td>\n",
       "    </tr>\n",
       "    <tr>\n",
       "      <th>1</th>\n",
       "      <td>ieS_5zqxDHcWMCm8BKUYbg</td>\n",
       "      <td>thames-street-oyster-house-baltimore</td>\n",
       "      <td>Thames Street Oyster House</td>\n",
       "      <td>https://s3-media1.fl.yelpcdn.com/bphoto/9hGjo5...</td>\n",
       "      <td>False</td>\n",
       "      <td>https://www.yelp.com/biz/thames-street-oyster-...</td>\n",
       "      <td>2762</td>\n",
       "      <td>[{'alias': 'seafood', 'title': 'Seafood'}, {'a...</td>\n",
       "      <td>4.5</td>\n",
       "      <td>{'latitude': 39.28214, 'longitude': -76.59162}</td>\n",
       "      <td>[delivery]</td>\n",
       "      <td>$$$</td>\n",
       "      <td>{'address1': '1728 Thames St', 'address2': '',...</td>\n",
       "      <td>+14434497726</td>\n",
       "      <td>(443) 449-7726</td>\n",
       "      <td>2090.712792</td>\n",
       "    </tr>\n",
       "    <tr>\n",
       "      <th>2</th>\n",
       "      <td>u65W69AhbjUlvJJBkEhGNQ</td>\n",
       "      <td>miss-shirleys-cafe-baltimore-9</td>\n",
       "      <td>Miss Shirley's Cafe</td>\n",
       "      <td>https://s3-media4.fl.yelpcdn.com/bphoto/9FsOyV...</td>\n",
       "      <td>False</td>\n",
       "      <td>https://www.yelp.com/biz/miss-shirleys-cafe-ba...</td>\n",
       "      <td>2977</td>\n",
       "      <td>[{'alias': 'breakfast_brunch', 'title': 'Break...</td>\n",
       "      <td>4.0</td>\n",
       "      <td>{'latitude': 39.2870995, 'longitude': -76.6053...</td>\n",
       "      <td>[delivery]</td>\n",
       "      <td>$$</td>\n",
       "      <td>{'address1': '750 E Pratt St', 'address2': '',...</td>\n",
       "      <td>+14105285373</td>\n",
       "      <td>(410) 528-5373</td>\n",
       "      <td>1028.736468</td>\n",
       "    </tr>\n",
       "    <tr>\n",
       "      <th>3</th>\n",
       "      <td>1C8QSqc-erkkyAUywh501A</td>\n",
       "      <td>angies-seafood-baltimore</td>\n",
       "      <td>Angie's Seafood</td>\n",
       "      <td>https://s3-media1.fl.yelpcdn.com/bphoto/pqkYsm...</td>\n",
       "      <td>False</td>\n",
       "      <td>https://www.yelp.com/biz/angies-seafood-baltim...</td>\n",
       "      <td>707</td>\n",
       "      <td>[{'alias': 'seafood', 'title': 'Seafood'}, {'a...</td>\n",
       "      <td>4.0</td>\n",
       "      <td>{'latitude': 39.289207148922245, 'longitude': ...</td>\n",
       "      <td>[pickup, delivery]</td>\n",
       "      <td>$$</td>\n",
       "      <td>{'address1': '1727 E Pratt St', 'address2': No...</td>\n",
       "      <td>+14103420917</td>\n",
       "      <td>(410) 342-0917</td>\n",
       "      <td>1499.083404</td>\n",
       "    </tr>\n",
       "    <tr>\n",
       "      <th>4</th>\n",
       "      <td>6am8TZAFnvND52MOz-Yctg</td>\n",
       "      <td>mamas-on-the-half-shell-baltimore</td>\n",
       "      <td>Mama's On The Half Shell</td>\n",
       "      <td>https://s3-media2.fl.yelpcdn.com/bphoto/HWY8OF...</td>\n",
       "      <td>False</td>\n",
       "      <td>https://www.yelp.com/biz/mamas-on-the-half-she...</td>\n",
       "      <td>1294</td>\n",
       "      <td>[{'alias': 'bars', 'title': 'Bars'}, {'alias':...</td>\n",
       "      <td>4.0</td>\n",
       "      <td>{'latitude': 39.27986, 'longitude': -76.5752399}</td>\n",
       "      <td>[pickup, delivery]</td>\n",
       "      <td>$$</td>\n",
       "      <td>{'address1': '2901 Odonnell St', 'address2': '...</td>\n",
       "      <td>+14102763160</td>\n",
       "      <td>(410) 276-3160</td>\n",
       "      <td>3328.825798</td>\n",
       "    </tr>\n",
       "  </tbody>\n",
       "</table>\n",
       "</div>"
      ],
      "text/plain": [
       "                       id                                 alias  \\\n",
       "0  D9A33FM394q99o4QtK5YwA          faidleys-seafood-baltimore-3   \n",
       "1  ieS_5zqxDHcWMCm8BKUYbg  thames-street-oyster-house-baltimore   \n",
       "2  u65W69AhbjUlvJJBkEhGNQ        miss-shirleys-cafe-baltimore-9   \n",
       "3  1C8QSqc-erkkyAUywh501A              angies-seafood-baltimore   \n",
       "4  6am8TZAFnvND52MOz-Yctg     mamas-on-the-half-shell-baltimore   \n",
       "\n",
       "                         name  \\\n",
       "0           Faidley's Seafood   \n",
       "1  Thames Street Oyster House   \n",
       "2         Miss Shirley's Cafe   \n",
       "3             Angie's Seafood   \n",
       "4    Mama's On The Half Shell   \n",
       "\n",
       "                                           image_url  is_closed  \\\n",
       "0  https://s3-media3.fl.yelpcdn.com/bphoto/8j3ynZ...      False   \n",
       "1  https://s3-media1.fl.yelpcdn.com/bphoto/9hGjo5...      False   \n",
       "2  https://s3-media4.fl.yelpcdn.com/bphoto/9FsOyV...      False   \n",
       "3  https://s3-media1.fl.yelpcdn.com/bphoto/pqkYsm...      False   \n",
       "4  https://s3-media2.fl.yelpcdn.com/bphoto/HWY8OF...      False   \n",
       "\n",
       "                                                 url  review_count  \\\n",
       "0  https://www.yelp.com/biz/faidleys-seafood-balt...          1199   \n",
       "1  https://www.yelp.com/biz/thames-street-oyster-...          2762   \n",
       "2  https://www.yelp.com/biz/miss-shirleys-cafe-ba...          2977   \n",
       "3  https://www.yelp.com/biz/angies-seafood-baltim...           707   \n",
       "4  https://www.yelp.com/biz/mamas-on-the-half-she...          1294   \n",
       "\n",
       "                                          categories  rating  \\\n",
       "0  [{'alias': 'seafood', 'title': 'Seafood'}, {'a...     4.0   \n",
       "1  [{'alias': 'seafood', 'title': 'Seafood'}, {'a...     4.5   \n",
       "2  [{'alias': 'breakfast_brunch', 'title': 'Break...     4.0   \n",
       "3  [{'alias': 'seafood', 'title': 'Seafood'}, {'a...     4.0   \n",
       "4  [{'alias': 'bars', 'title': 'Bars'}, {'alias':...     4.0   \n",
       "\n",
       "                                         coordinates        transactions  \\\n",
       "0    {'latitude': 39.291696, 'longitude': -76.62224}          [delivery]   \n",
       "1     {'latitude': 39.28214, 'longitude': -76.59162}          [delivery]   \n",
       "2  {'latitude': 39.2870995, 'longitude': -76.6053...          [delivery]   \n",
       "3  {'latitude': 39.289207148922245, 'longitude': ...  [pickup, delivery]   \n",
       "4   {'latitude': 39.27986, 'longitude': -76.5752399}  [pickup, delivery]   \n",
       "\n",
       "  price                                           location         phone  \\\n",
       "0    $$  {'address1': '203 N Paca St', 'address2': '', ...  +14107274898   \n",
       "1   $$$  {'address1': '1728 Thames St', 'address2': '',...  +14434497726   \n",
       "2    $$  {'address1': '750 E Pratt St', 'address2': '',...  +14105285373   \n",
       "3    $$  {'address1': '1727 E Pratt St', 'address2': No...  +14103420917   \n",
       "4    $$  {'address1': '2901 Odonnell St', 'address2': '...  +14102763160   \n",
       "\n",
       "    display_phone     distance  \n",
       "0  (410) 727-4898  1349.560720  \n",
       "1  (443) 449-7726  2090.712792  \n",
       "2  (410) 528-5373  1028.736468  \n",
       "3  (410) 342-0917  1499.083404  \n",
       "4  (410) 276-3160  3328.825798  "
      ]
     },
     "metadata": {},
     "output_type": "display_data"
    },
    {
     "data": {
      "text/html": [
       "<div>\n",
       "<style scoped>\n",
       "    .dataframe tbody tr th:only-of-type {\n",
       "        vertical-align: middle;\n",
       "    }\n",
       "\n",
       "    .dataframe tbody tr th {\n",
       "        vertical-align: top;\n",
       "    }\n",
       "\n",
       "    .dataframe thead th {\n",
       "        text-align: right;\n",
       "    }\n",
       "</style>\n",
       "<table border=\"1\" class=\"dataframe\">\n",
       "  <thead>\n",
       "    <tr style=\"text-align: right;\">\n",
       "      <th></th>\n",
       "      <th>id</th>\n",
       "      <th>alias</th>\n",
       "      <th>name</th>\n",
       "      <th>image_url</th>\n",
       "      <th>is_closed</th>\n",
       "      <th>url</th>\n",
       "      <th>review_count</th>\n",
       "      <th>categories</th>\n",
       "      <th>rating</th>\n",
       "      <th>coordinates</th>\n",
       "      <th>transactions</th>\n",
       "      <th>price</th>\n",
       "      <th>location</th>\n",
       "      <th>phone</th>\n",
       "      <th>display_phone</th>\n",
       "      <th>distance</th>\n",
       "    </tr>\n",
       "  </thead>\n",
       "  <tbody>\n",
       "    <tr>\n",
       "      <th>423</th>\n",
       "      <td>WVQqkLAKowuIe51IVNXCZA</td>\n",
       "      <td>outback-steakhouse-baltimore</td>\n",
       "      <td>Outback Steakhouse</td>\n",
       "      <td>https://s3-media2.fl.yelpcdn.com/bphoto/NzwBx9...</td>\n",
       "      <td>False</td>\n",
       "      <td>https://www.yelp.com/biz/outback-steakhouse-ba...</td>\n",
       "      <td>136</td>\n",
       "      <td>[{'alias': 'steak', 'title': 'Steakhouses'}]</td>\n",
       "      <td>3.0</td>\n",
       "      <td>{'latitude': 39.2817468, 'longitude': -76.5816...</td>\n",
       "      <td>[delivery, pickup]</td>\n",
       "      <td>$$</td>\n",
       "      <td>{'address1': '2400 Boston St', 'address2': '',...</td>\n",
       "      <td>+14105227757</td>\n",
       "      <td>(410) 522-7757</td>\n",
       "      <td>2755.986468</td>\n",
       "    </tr>\n",
       "    <tr>\n",
       "      <th>424</th>\n",
       "      <td>dWI0jCoOqjge9VQTIad-Ww</td>\n",
       "      <td>york-pizza-subs-and-wings-baltimore</td>\n",
       "      <td>York Pizza Subs and Wings</td>\n",
       "      <td>https://s3-media4.fl.yelpcdn.com/bphoto/Ay3jyi...</td>\n",
       "      <td>False</td>\n",
       "      <td>https://www.yelp.com/biz/york-pizza-subs-and-w...</td>\n",
       "      <td>51</td>\n",
       "      <td>[{'alias': 'pizza', 'title': 'Pizza'}]</td>\n",
       "      <td>2.0</td>\n",
       "      <td>{'latitude': 39.3298530578613, 'longitude': -7...</td>\n",
       "      <td>[delivery, pickup]</td>\n",
       "      <td>$</td>\n",
       "      <td>{'address1': '3401 Greenmount Ave', 'address2'...</td>\n",
       "      <td>+14102356290</td>\n",
       "      <td>(410) 235-6290</td>\n",
       "      <td>3743.767034</td>\n",
       "    </tr>\n",
       "    <tr>\n",
       "      <th>425</th>\n",
       "      <td>nA8hY_b-yD4U_PQGWGmw9Q</td>\n",
       "      <td>american-wings-and-pizza-baltimore</td>\n",
       "      <td>American Wings &amp; Pizza</td>\n",
       "      <td>https://s3-media2.fl.yelpcdn.com/bphoto/mYgJ5p...</td>\n",
       "      <td>False</td>\n",
       "      <td>https://www.yelp.com/biz/american-wings-and-pi...</td>\n",
       "      <td>61</td>\n",
       "      <td>[{'alias': 'pizza', 'title': 'Pizza'}, {'alias...</td>\n",
       "      <td>2.5</td>\n",
       "      <td>{'latitude': 39.3165, 'longitude': -76.61556}</td>\n",
       "      <td>[delivery, pickup]</td>\n",
       "      <td>$</td>\n",
       "      <td>{'address1': '2400 St Paul St', 'address2': ''...</td>\n",
       "      <td>+14102352300</td>\n",
       "      <td>(410) 235-2300</td>\n",
       "      <td>2361.614576</td>\n",
       "    </tr>\n",
       "    <tr>\n",
       "      <th>426</th>\n",
       "      <td>rtlLrtUn35c9Y2eIcxHT8g</td>\n",
       "      <td>kings-pizza-and-subs-baltimore-2</td>\n",
       "      <td>King's Pizza &amp; Subs</td>\n",
       "      <td>https://s3-media2.fl.yelpcdn.com/bphoto/9FEdeU...</td>\n",
       "      <td>False</td>\n",
       "      <td>https://www.yelp.com/biz/kings-pizza-and-subs-...</td>\n",
       "      <td>75</td>\n",
       "      <td>[{'alias': 'pizza', 'title': 'Pizza'}]</td>\n",
       "      <td>2.5</td>\n",
       "      <td>{'latitude': 39.33086, 'longitude': -76.63161}</td>\n",
       "      <td>[delivery, pickup]</td>\n",
       "      <td>$$</td>\n",
       "      <td>{'address1': '907 W 36th St', 'address2': None...</td>\n",
       "      <td>+14108893663</td>\n",
       "      <td>(410) 889-3663</td>\n",
       "      <td>4382.210159</td>\n",
       "    </tr>\n",
       "    <tr>\n",
       "      <th>427</th>\n",
       "      <td>EWkA_yQ1VPa7cHbkiBbawA</td>\n",
       "      <td>phillys-best-baltimore</td>\n",
       "      <td>Philly's Best</td>\n",
       "      <td>https://s3-media4.fl.yelpcdn.com/bphoto/CXQdUz...</td>\n",
       "      <td>False</td>\n",
       "      <td>https://www.yelp.com/biz/phillys-best-baltimor...</td>\n",
       "      <td>45</td>\n",
       "      <td>[{'alias': 'pizza', 'title': 'Pizza'}, {'alias...</td>\n",
       "      <td>3.0</td>\n",
       "      <td>{'latitude': 39.33084, 'longitude': -76.63393}</td>\n",
       "      <td>[delivery, pickup]</td>\n",
       "      <td>$</td>\n",
       "      <td>{'address1': '1101 W 36th St', 'address2': '',...</td>\n",
       "      <td>+14102431301</td>\n",
       "      <td>(410) 243-1301</td>\n",
       "      <td>4467.724059</td>\n",
       "    </tr>\n",
       "  </tbody>\n",
       "</table>\n",
       "</div>"
      ],
      "text/plain": [
       "                         id                                alias  \\\n",
       "423  WVQqkLAKowuIe51IVNXCZA         outback-steakhouse-baltimore   \n",
       "424  dWI0jCoOqjge9VQTIad-Ww  york-pizza-subs-and-wings-baltimore   \n",
       "425  nA8hY_b-yD4U_PQGWGmw9Q   american-wings-and-pizza-baltimore   \n",
       "426  rtlLrtUn35c9Y2eIcxHT8g     kings-pizza-and-subs-baltimore-2   \n",
       "427  EWkA_yQ1VPa7cHbkiBbawA               phillys-best-baltimore   \n",
       "\n",
       "                          name  \\\n",
       "423         Outback Steakhouse   \n",
       "424  York Pizza Subs and Wings   \n",
       "425     American Wings & Pizza   \n",
       "426        King's Pizza & Subs   \n",
       "427              Philly's Best   \n",
       "\n",
       "                                             image_url  is_closed  \\\n",
       "423  https://s3-media2.fl.yelpcdn.com/bphoto/NzwBx9...      False   \n",
       "424  https://s3-media4.fl.yelpcdn.com/bphoto/Ay3jyi...      False   \n",
       "425  https://s3-media2.fl.yelpcdn.com/bphoto/mYgJ5p...      False   \n",
       "426  https://s3-media2.fl.yelpcdn.com/bphoto/9FEdeU...      False   \n",
       "427  https://s3-media4.fl.yelpcdn.com/bphoto/CXQdUz...      False   \n",
       "\n",
       "                                                   url  review_count  \\\n",
       "423  https://www.yelp.com/biz/outback-steakhouse-ba...           136   \n",
       "424  https://www.yelp.com/biz/york-pizza-subs-and-w...            51   \n",
       "425  https://www.yelp.com/biz/american-wings-and-pi...            61   \n",
       "426  https://www.yelp.com/biz/kings-pizza-and-subs-...            75   \n",
       "427  https://www.yelp.com/biz/phillys-best-baltimor...            45   \n",
       "\n",
       "                                            categories  rating  \\\n",
       "423       [{'alias': 'steak', 'title': 'Steakhouses'}]     3.0   \n",
       "424             [{'alias': 'pizza', 'title': 'Pizza'}]     2.0   \n",
       "425  [{'alias': 'pizza', 'title': 'Pizza'}, {'alias...     2.5   \n",
       "426             [{'alias': 'pizza', 'title': 'Pizza'}]     2.5   \n",
       "427  [{'alias': 'pizza', 'title': 'Pizza'}, {'alias...     3.0   \n",
       "\n",
       "                                           coordinates        transactions  \\\n",
       "423  {'latitude': 39.2817468, 'longitude': -76.5816...  [delivery, pickup]   \n",
       "424  {'latitude': 39.3298530578613, 'longitude': -7...  [delivery, pickup]   \n",
       "425      {'latitude': 39.3165, 'longitude': -76.61556}  [delivery, pickup]   \n",
       "426     {'latitude': 39.33086, 'longitude': -76.63161}  [delivery, pickup]   \n",
       "427     {'latitude': 39.33084, 'longitude': -76.63393}  [delivery, pickup]   \n",
       "\n",
       "    price                                           location         phone  \\\n",
       "423    $$  {'address1': '2400 Boston St', 'address2': '',...  +14105227757   \n",
       "424     $  {'address1': '3401 Greenmount Ave', 'address2'...  +14102356290   \n",
       "425     $  {'address1': '2400 St Paul St', 'address2': ''...  +14102352300   \n",
       "426    $$  {'address1': '907 W 36th St', 'address2': None...  +14108893663   \n",
       "427     $  {'address1': '1101 W 36th St', 'address2': '',...  +14102431301   \n",
       "\n",
       "      display_phone     distance  \n",
       "423  (410) 522-7757  2755.986468  \n",
       "424  (410) 235-6290  3743.767034  \n",
       "425  (410) 235-2300  2361.614576  \n",
       "426  (410) 889-3663  4382.210159  \n",
       "427  (410) 243-1301  4467.724059  "
      ]
     },
     "metadata": {},
     "output_type": "display_data"
    }
   ],
   "source": [
    "# load final results\n",
    "final_df = pd.read_json(JSON_FILE)\n",
    "display(final_df.head(), final_df.tail())"
   ]
  },
  {
   "cell_type": "code",
   "execution_count": 16,
   "id": "54f1558f",
   "metadata": {},
   "outputs": [
    {
     "data": {
      "text/plain": [
       "0"
      ]
     },
     "execution_count": 16,
     "metadata": {},
     "output_type": "execute_result"
    }
   ],
   "source": [
    "# check for duplicate IDs\n",
    "final_df.duplicated(subset='id').sum()"
   ]
  },
  {
   "cell_type": "code",
   "execution_count": 17,
   "id": "662d5af4",
   "metadata": {},
   "outputs": [],
   "source": [
    "# save the final results to a compressed csv\n",
    "final_df.to_csv('Data/final_results_crab_cakes.csv.gz', compression='gzip',index=False)"
   ]
  },
  {
   "cell_type": "code",
   "execution_count": null,
   "id": "116f63b7",
   "metadata": {},
   "outputs": [],
   "source": []
  }
 ],
 "metadata": {
  "kernelspec": {
   "display_name": "Python (dojo-env)",
   "language": "python",
   "name": "dojo-env"
  },
  "language_info": {
   "codemirror_mode": {
    "name": "ipython",
    "version": 3
   },
   "file_extension": ".py",
   "mimetype": "text/x-python",
   "name": "python",
   "nbconvert_exporter": "python",
   "pygments_lexer": "ipython3",
   "version": "3.7.12"
  },
  "toc": {
   "base_numbering": 1,
   "nav_menu": {},
   "number_sections": false,
   "sideBar": true,
   "skip_h1_title": false,
   "title_cell": "Table of Contents",
   "title_sidebar": "Contents",
   "toc_cell": false,
   "toc_position": {},
   "toc_section_display": true,
   "toc_window_display": false
  }
 },
 "nbformat": 4,
 "nbformat_minor": 5
}
